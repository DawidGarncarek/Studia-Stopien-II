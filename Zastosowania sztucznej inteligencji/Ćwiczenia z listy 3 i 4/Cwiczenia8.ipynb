{
 "cells": [
  {
   "cell_type": "code",
   "execution_count": 26,
   "id": "cfcc2654-1ae1-4ef2-8ac9-a9743b766b57",
   "metadata": {},
   "outputs": [
    {
     "name": "stdout",
     "output_type": "stream",
     "text": [
      "Prognozowane: [ 119.32096902   55.16384995 -238.68777707 -184.80568194  -21.7996931\n",
      "  -76.04824339   81.95440642  -23.04838398  -76.89350802  105.52224012]\n",
      "Rzeczywiste: [ 103.87873474   61.36396272 -220.92872157 -147.45648257  -19.50157757\n",
      "  -51.22804156   82.97453875  -38.19016273  -87.22009455   76.28127694]\n",
      "MAE: 13.229838307216863\n",
      "Treningowy: 15.476383012871622\n",
      "Walidacyjny: 13.229838307216863\n",
      "MSE: 291.9296829125525\n",
      "RMSE: 17.085949868607027\n",
      "MAPE: 2.9667600095309146\n",
      "R2: 0.9857500397935576\n"
     ]
    }
   ],
   "source": [
    "import numpy as np\n",
    "import pandas as pd\n",
    "from sklearn.neighbors import KNeighborsRegressor, KNeighborsClassifier\n",
    "from sklearn.metrics import accuracy_score, recall_score, classification_report, confusion_matrix, f1_score, precision_score\n",
    "from sklearn.metrics import r2_score, mean_absolute_error, mean_squared_error\n",
    "from sklearn.datasets import load_diabetes, load_iris, make_classification, make_regression\n",
    "from sklearn.model_selection import train_test_split\n",
    "\n",
    "#Zadanie 8\n",
    "x_reg, y_reg = make_regression(n_samples=400, n_features=4)\n",
    "\n",
    "x_train_reg, x_val_reg, y_train_reg, y_val_reg = train_test_split(\n",
    "    x_reg, y_reg, train_size=0.8, random_state=42)\n",
    "\n",
    "knn_reg = KNeighborsRegressor(n_neighbors = 2)\n",
    "knn_reg.fit(x_reg, y_reg)\n",
    "\n",
    "#8.A\n",
    "y_pred_reg = knn_reg.predict(x_val_reg)\n",
    "\n",
    "#8.B\n",
    "print('Prognozowane:', y_pred_reg[:10])\n",
    "print('Rzeczywiste:', y_val_reg[:10])\n",
    "\n",
    "#8.C\n",
    "mae = mean_absolute_error(y_val_reg, y_pred_reg)\n",
    "print('MAE:', mae)\n",
    "\n",
    "#8.D\n",
    "#print(\"Target:\", x_reg.target_names)\n",
    "\n",
    "#8.E\n",
    "train_mae = mean_absolute_error(y_train_reg, knn_reg.predict(x_train_reg))\n",
    "print('Treningowy:', train_mae)\n",
    "print('Walidacyjny:', mae)\n",
    "\n",
    "#8.A\n",
    "mse = mean_squared_error(y_val_reg, y_pred_reg)\n",
    "print('MSE:', mse)\n",
    "\n",
    "#8.B\n",
    "rmse = np.sqrt(mse)\n",
    "print('RMSE:', rmse)\n",
    "\n",
    "#8.C\n",
    "mape = np.mean(np.abs(y_val_reg - y_pred_reg) / y_val_reg) * 100\n",
    "print('MAPE:', mape)\n",
    "\n",
    "#8.D\n",
    "r2 = r2_score(y_val_reg, y_pred_reg)\n",
    "print('R2:', r2)"
   ]
  },
  {
   "cell_type": "code",
   "execution_count": null,
   "id": "735e3037-cdc4-4e1f-ab76-b0113d09e55c",
   "metadata": {},
   "outputs": [],
   "source": []
  },
  {
   "cell_type": "code",
   "execution_count": null,
   "id": "27d3c41b-a3cb-43c4-945c-0ea6e3927a9f",
   "metadata": {},
   "outputs": [],
   "source": []
  }
 ],
 "metadata": {
  "kernelspec": {
   "display_name": "Python 3 (ipykernel)",
   "language": "python",
   "name": "python3"
  },
  "language_info": {
   "codemirror_mode": {
    "name": "ipython",
    "version": 3
   },
   "file_extension": ".py",
   "mimetype": "text/x-python",
   "name": "python",
   "nbconvert_exporter": "python",
   "pygments_lexer": "ipython3",
   "version": "3.12.3"
  }
 },
 "nbformat": 4,
 "nbformat_minor": 5
}

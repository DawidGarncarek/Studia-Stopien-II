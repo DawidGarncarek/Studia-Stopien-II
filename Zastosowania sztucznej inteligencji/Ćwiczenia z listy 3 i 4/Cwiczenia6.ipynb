{
 "cells": [
  {
   "cell_type": "code",
   "execution_count": 49,
   "id": "e3a4865d-1552-4eb7-9354-2e1815baa6c5",
   "metadata": {},
   "outputs": [
    {
     "name": "stdout",
     "output_type": "stream",
     "text": [
      "Prognozowane: [0 1 1 1 0 1 1 0 0 1 1 0 0 1 0]\n",
      "Rzeczywiste: [0 1 0 1 0 1 1 0 0 1 1 1 0 1 0]\n",
      "Dokładność: 0.95\n",
      "Dokładność treningowy: 0.94\n",
      "Dokładność walidacyjny: 0.95\n",
      "Precyzja: 0.9501207729468599\n",
      "Czulosc: 0.95\n",
      "F1 Score: 0.949964827655512\n",
      "Macierz pomyłek: [[51  2]\n",
      " [ 3 44]]\n",
      "Raport klasyfikacji:               precision    recall  f1-score   support\n",
      "\n",
      "     Klasa 0       0.94      0.96      0.95        53\n",
      "     Klasa 1       0.96      0.94      0.95        47\n",
      "\n",
      "    accuracy                           0.95       100\n",
      "   macro avg       0.95      0.95      0.95       100\n",
      "weighted avg       0.95      0.95      0.95       100\n",
      "\n"
     ]
    }
   ],
   "source": [
    "import numpy as np\n",
    "import pandas as pd\n",
    "\n",
    "from sklearn.neighbors import KNeighborsRegressor, KNeighborsClassifier\n",
    "from sklearn.metrics import accuracy_score, recall_score, classification_report, confusion_matrix, f1_score, precision_score\n",
    "from sklearn.metrics import r2_score, mean_absolute_error, mean_squared_error\n",
    "from sklearn.datasets import load_diabetes, load_iris, make_classification, make_regression\n",
    "from sklearn.model_selection import train_test_split\n",
    "\n",
    "# Zadanie 6\n",
    "x_binary, y_binary = make_classification(n_samples=500, n_features=5, random_state=42)\n",
    "\n",
    "x_train_binary, x_val_binary, y_train_binary, y_val_binary = train_test_split(\n",
    "    x_binary, y_binary, train_size=0.8, random_state=42\n",
    ")\n",
    "\n",
    "knn_binary = KNeighborsClassifier(n_neighbors=2)\n",
    "knn_binary.fit(x_train_binary, y_train_binary)  \n",
    "\n",
    "# 6.A \n",
    "y_pred_binary = knn_binary.predict(x_val_binary)\n",
    "\n",
    "# 6.B \n",
    "print('Prognozowane:', y_pred_binary[:15])\n",
    "print('Rzeczywiste:', y_val_binary[:15])\n",
    "\n",
    "# 6.C\n",
    "accuracy_binary = accuracy_score(y_val_binary, y_pred_binary)\n",
    "print('Dokładność:', accuracy_binary)\n",
    "\n",
    "# 6.D\n",
    "#print('Klasy targetu:', x_binary.target_names)\n",
    "\n",
    "# 6.E\n",
    "accuracy_train_binary = knn_binary.score(x_train_binary, y_train_binary)\n",
    "print('Dokładność treningowy:', accuracy_train_binary)\n",
    "print('Dokładność walidacyjny:', accuracy_binary)\n",
    "\n",
    "# 6.A\n",
    "iris = load_iris()\n",
    "precision = precision_score(y_val_binary, y_pred_binary, average='weighted')\n",
    "print('Precyzja:', precision)\n",
    "\n",
    "# 6.B\n",
    "recall = recall_score(y_val_binary, y_pred_binary, average='weighted')\n",
    "print('Czulosc:', recall)\n",
    "\n",
    "# 6.C\n",
    "f1score = f1_score(y_val_binary, y_pred_binary, average='weighted')\n",
    "print('F1 Score:', f1score)\n",
    "\n",
    "# 6.D\n",
    "conf_mat = confusion_matrix(y_val_binary, y_pred_binary)\n",
    "print('Macierz pomyłek:', conf_mat)\n",
    "\n",
    "# 6.E\n",
    "class_report = classification_report(y_val_binary, y_pred_binary, target_names=[\"Klasa 0\", \"Klasa 1\"])\n",
    "print('Raport klasyfikacji:', class_report)\n"
   ]
  },
  {
   "cell_type": "code",
   "execution_count": null,
   "id": "4bfab89a-f39f-4459-9135-19ed9957ff2b",
   "metadata": {},
   "outputs": [],
   "source": []
  }
 ],
 "metadata": {
  "kernelspec": {
   "display_name": "Python 3 (ipykernel)",
   "language": "python",
   "name": "python3"
  },
  "language_info": {
   "codemirror_mode": {
    "name": "ipython",
    "version": 3
   },
   "file_extension": ".py",
   "mimetype": "text/x-python",
   "name": "python",
   "nbconvert_exporter": "python",
   "pygments_lexer": "ipython3",
   "version": "3.12.3"
  }
 },
 "nbformat": 4,
 "nbformat_minor": 5
}

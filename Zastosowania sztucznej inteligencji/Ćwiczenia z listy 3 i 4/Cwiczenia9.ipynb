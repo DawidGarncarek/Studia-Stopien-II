{
 "cells": [
  {
   "cell_type": "code",
   "execution_count": 1,
   "id": "8454f375-1ae0-4c48-b06f-ae3ef7d17243",
   "metadata": {},
   "outputs": [
    {
     "name": "stdout",
     "output_type": "stream",
     "text": [
      "Prognozowane: [-89.20811831  20.31697664 141.55405658 -23.17815195  -4.42730104\n",
      " 103.94195432 -39.47794858 -69.29541279  31.88778418   2.61650962]\n",
      "Rzeczywiste: [-88.94836538  -8.09344815 162.01769368 -37.15947531 -23.37324426\n",
      " 139.73182504  11.02404042 -87.81308533  53.22452143  31.63989882]\n",
      "MAE: 19.472917230721183\n",
      "Treningowy: 19.110278104116276\n",
      "Walidacyjny: 19.472917230721183\n",
      "MSE: 609.5455275019918\n",
      "RMSE: 24.688975829345207\n",
      "MAPE: 13.622175877729461\n",
      "R2: 0.9596974234202406\n"
     ]
    }
   ],
   "source": [
    "import numpy as np\n",
    "import pandas as pd\n",
    "from sklearn.neighbors import KNeighborsRegressor, KNeighborsClassifier\n",
    "from sklearn.metrics import accuracy_score, recall_score, classification_report, confusion_matrix, f1_score, precision_score\n",
    "from sklearn.metrics import r2_score, mean_absolute_error, mean_squared_error\n",
    "from sklearn.datasets import load_diabetes, load_iris, make_classification, make_regression\n",
    "from sklearn.model_selection import train_test_split\n",
    "\n",
    "#Zadanie 8\n",
    "x_reg, y_reg = make_regression(n_samples=600, n_features=6)\n",
    "\n",
    "x_train_reg, x_val_reg, y_train_reg, y_val_reg = train_test_split(\n",
    "    x_reg, y_reg, train_size=0.8, random_state=42)\n",
    "\n",
    "knn_reg = KNeighborsRegressor(n_neighbors = 2)\n",
    "knn_reg.fit(x_reg, y_reg)\n",
    "\n",
    "#8.A\n",
    "y_pred_reg = knn_reg.predict(x_val_reg)\n",
    "\n",
    "#8.B\n",
    "print('Prognozowane:', y_pred_reg[:10])\n",
    "print('Rzeczywiste:', y_val_reg[:10])\n",
    "\n",
    "#8.C\n",
    "mae = mean_absolute_error(y_val_reg, y_pred_reg)\n",
    "print('MAE:', mae)\n",
    "\n",
    "#8.D\n",
    "#print(\"Target:\", x_reg.target_names)\n",
    "\n",
    "#8.E\n",
    "train_mae = mean_absolute_error(y_train_reg, knn_reg.predict(x_train_reg))\n",
    "print('Treningowy:', train_mae)\n",
    "print('Walidacyjny:', mae)\n",
    "\n",
    "#8.A\n",
    "mse = mean_squared_error(y_val_reg, y_pred_reg)\n",
    "print('MSE:', mse)\n",
    "\n",
    "#8.B\n",
    "rmse = np.sqrt(mse)\n",
    "print('RMSE:', rmse)\n",
    "\n",
    "#8.C\n",
    "mape = np.mean(np.abs(y_val_reg - y_pred_reg) / y_val_reg) * 100\n",
    "print('MAPE:', mape)\n",
    "\n",
    "#8.D\n",
    "r2 = r2_score(y_val_reg, y_pred_reg)\n",
    "print('R2:', r2)"
   ]
  },
  {
   "cell_type": "code",
   "execution_count": null,
   "id": "7b3e19b4-52c1-4e19-ac3c-03d6c0992d71",
   "metadata": {},
   "outputs": [],
   "source": []
  }
 ],
 "metadata": {
  "kernelspec": {
   "display_name": "Python 3 (ipykernel)",
   "language": "python",
   "name": "python3"
  },
  "language_info": {
   "codemirror_mode": {
    "name": "ipython",
    "version": 3
   },
   "file_extension": ".py",
   "mimetype": "text/x-python",
   "name": "python",
   "nbconvert_exporter": "python",
   "pygments_lexer": "ipython3",
   "version": "3.12.3"
  }
 },
 "nbformat": 4,
 "nbformat_minor": 5
}

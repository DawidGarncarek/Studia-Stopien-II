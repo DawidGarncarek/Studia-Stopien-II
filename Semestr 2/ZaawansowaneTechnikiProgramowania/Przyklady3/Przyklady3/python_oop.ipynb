{
 "cells": [
  {
   "cell_type": "markdown",
   "id": "cc6a1a90",
   "metadata": {},
   "source": [
    "\n",
    "# Programowanie obiektowe w Pythonie\n",
    "\n",
    "W tym notatniku omówimy kluczowe zagadnienia związane z programowaniem obiektowym (OOP) w Pythonie, takie jak:\n",
    "\n",
    "- Klasy i obiekty\n",
    "- Metody specjalne (np. `__init__`, `__str__`, itp.)\n",
    "- Dziedziczenie\n",
    "- Polimorfizm\n",
    "- Abstrakcja\n",
    "\n"
   ]
  },
  {
   "cell_type": "markdown",
   "id": "30ad46d8",
   "metadata": {},
   "source": [
    "\n",
    "## Klasy i obiekty\n",
    "\n",
    "Klasa jest szablonem do tworzenia obiektów. Obiekt to instancja klasy, która ma swoje własne atrybuty i metody.\n",
    "\n",
    "Przykład klasy i obiektu:\n"
   ]
  },
  {
   "cell_type": "code",
   "execution_count": 1,
   "id": "2c6f550e",
   "metadata": {},
   "outputs": [
    {
     "name": "stdout",
     "output_type": "stream",
     "text": [
      "Samochód: Toyota Corolla, rok produkcji: 2020\n"
     ]
    }
   ],
   "source": [
    "\n",
    "# Definicja klasy\n",
    "class Samochod:\n",
    "    def __init__(self, marka, model, rok):\n",
    "        self.marka = marka\n",
    "        self.model = model\n",
    "        self.rok = rok\n",
    "    \n",
    "    def info(self):\n",
    "        return f\"Samochód: {self.marka} {self.model}, rok produkcji: {self.rok}\"\n",
    "\n",
    "# Tworzenie obiektu klasy\n",
    "moj_samochod = Samochod(\"Toyota\", \"Corolla\", 2020)\n",
    "\n",
    "# Wyświetlenie informacji o samochodzie\n",
    "print(moj_samochod.info())\n"
   ]
  },
  {
   "cell_type": "markdown",
   "id": "d3d67cb6",
   "metadata": {},
   "source": [
    "\n",
    "## Metody specjalne\n",
    "\n",
    "Metody specjalne (zwane także metodami magicznymi) to metody w Pythonie, które mają specjalne znaczenie. Ich nazwy są otoczone podwójnymi podkreśleniami (`__`). Przykłady to:\n",
    "\n",
    "- `__init__` : Konstruktor klasy\n",
    "- `__str__` : Reprezentacja obiektu jako string\n",
    "- `__len__` : Zwraca długość obiektu (np. dla listy)\n",
    "\n",
    "Zobaczmy przykłady:\n"
   ]
  },
  {
   "cell_type": "code",
   "execution_count": 2,
   "id": "c304a2b5",
   "metadata": {},
   "outputs": [
    {
     "name": "stdout",
     "output_type": "stream",
     "text": [
      "'Władca Pierścieni' by J.R.R. Tolkien\n",
      "Liczba stron: 1178\n"
     ]
    }
   ],
   "source": [
    "\n",
    "# Przykład z metodami specjalnymi\n",
    "\n",
    "class Ksiazka:\n",
    "    def __init__(self, tytul, autor, strony):\n",
    "        self.tytul = tytul\n",
    "        self.autor = autor\n",
    "        self.strony = strony\n",
    "    \n",
    "    def __str__(self):\n",
    "        return f\"'{self.tytul}' by {self.autor}\"\n",
    "    \n",
    "    def __len__(self):\n",
    "        return self.strony\n",
    "\n",
    "# Tworzenie obiektu książki\n",
    "moja_ksiazka = Ksiazka(\"Władca Pierścieni\", \"J.R.R. Tolkien\", 1178)\n",
    "\n",
    "# Wyświetlenie informacji o książce\n",
    "print(moja_ksiazka)  # Używa metody __str__\n",
    "print(f\"Liczba stron: {len(moja_ksiazka)}\")  # Używa metody __len__\n"
   ]
  },
  {
   "cell_type": "markdown",
   "id": "d70de5c7",
   "metadata": {},
   "source": [
    "\n",
    "## Dziedziczenie\n",
    "\n",
    "Dziedziczenie pozwala na tworzenie nowej klasy na podstawie istniejącej klasy. Nowa klasa (klasa podrzędna) dziedziczy atrybuty i metody klasy bazowej.\n",
    "\n",
    "Przykład dziedziczenia:\n"
   ]
  },
  {
   "cell_type": "code",
   "execution_count": 3,
   "id": "98d78e78",
   "metadata": {},
   "outputs": [
    {
     "name": "stdout",
     "output_type": "stream",
     "text": [
      "To jest pies rasy Labrador.\n"
     ]
    }
   ],
   "source": [
    "\n",
    "# Dziedziczenie\n",
    "\n",
    "class Zwierze:\n",
    "    def __init__(self, gatunek):\n",
    "        self.gatunek = gatunek\n",
    "    \n",
    "    def opis(self):\n",
    "        return f\"To jest {self.gatunek}.\"\n",
    "\n",
    "# Klasa podrzędna dziedzicząca po klasie Zwierze\n",
    "class Pies(Zwierze):\n",
    "    def __init__(self, rasa):\n",
    "        super().__init__(\"pies\")\n",
    "        self.rasa = rasa\n",
    "    \n",
    "    def opis(self):\n",
    "        return f\"To jest pies rasy {self.rasa}.\"\n",
    "\n",
    "# Tworzenie obiektu klasy Pies\n",
    "mój_pies = Pies(\"Labrador\")\n",
    "print(mój_pies.opis())\n"
   ]
  },
  {
   "cell_type": "markdown",
   "id": "e6fee3da",
   "metadata": {},
   "source": [
    "\n",
    "## Polimorfizm\n",
    "\n",
    "Polimorfizm w programowaniu obiektowym oznacza, że różne klasy mogą mieć metody o tej samej nazwie, ale z różną implementacją. Oznacza to, że ta sama metoda może działać w różny sposób w zależności od kontekstu.\n",
    "\n",
    "Przykład polimorfizmu:\n"
   ]
  },
  {
   "cell_type": "code",
   "execution_count": null,
   "id": "bc9655ce",
   "metadata": {},
   "outputs": [],
   "source": [
    "\n",
    "# Polimorfizm\n",
    "\n",
    "class Kot:\n",
    "    def dzwiek(self):\n",
    "        return \"Miau!\"\n",
    "    \n",
    "class Pies:\n",
    "    def dzwiek(self):\n",
    "        return \"Hau!\"\n",
    "\n",
    "# Funkcja działająca polimorficznie\n",
    "def wydaj_dzwiek(zwierze):\n",
    "    print(zwierze.dzwiek())\n",
    "\n",
    "# Tworzenie obiektów\n",
    "kot = Kot()\n",
    "pies = Pies()\n",
    "\n",
    "# Wydawanie dźwięków (polimorfizm)\n",
    "wydaj_dzwiek(kot)\n",
    "wydaj_dzwiek(pies)\n"
   ]
  },
  {
   "cell_type": "markdown",
   "id": "f2a063bd",
   "metadata": {},
   "source": [
    "\n",
    "## Abstrakcja\n",
    "\n",
    "Abstrakcja to koncepcja ukrywania szczegółów implementacji i pokazywania tylko najważniejszych aspektów. W Pythonie abstrakcję można osiągnąć poprzez klasy abstrakcyjne, które nie mogą być instancjonowane, ale mogą definiować interfejs dla klas dziedziczących.\n",
    "\n",
    "Przykład abstrakcji:\n"
   ]
  },
  {
   "cell_type": "code",
   "execution_count": 4,
   "id": "eb894ed3",
   "metadata": {},
   "outputs": [
    {
     "name": "stdout",
     "output_type": "stream",
     "text": [
      "Obwód koła: 31.4159\n"
     ]
    }
   ],
   "source": [
    "\n",
    "from abc import ABC, abstractmethod\n",
    "\n",
    "# Klasa abstrakcyjna\n",
    "class Ksztalt(ABC):\n",
    "    @abstractmethod\n",
    "    def obwod(self):\n",
    "        pass\n",
    "\n",
    "# Klasa dziedzicząca po klasie abstrakcyjnej\n",
    "class Kolo(Ksztalt):\n",
    "    def __init__(self, promien):\n",
    "        self.promien = promien\n",
    "    \n",
    "    def obwod(self):\n",
    "        return 2 * 3.14159 * self.promien\n",
    "\n",
    "# Tworzenie obiektu i wyliczenie obwodu\n",
    "moje_kolo = Kolo(5)\n",
    "print(f\"Obwód koła: {moje_kolo.obwod()}\")\n"
   ]
  },
  {
   "cell_type": "markdown",
   "id": "50b8c179-da40-481a-ad86-8cbb9829a217",
   "metadata": {},
   "source": [
    "## Zmienne klasy\n",
    "Przykład ze zmienną integer jako numer id oraz listą (zmienną mutowalną)"
   ]
  },
  {
   "cell_type": "code",
   "execution_count": 6,
   "id": "06c39bc0-8b20-4674-af81-38fc1339ed04",
   "metadata": {},
   "outputs": [
    {
     "name": "stdout",
     "output_type": "stream",
     "text": [
      "Wszystkie opinie: ['ID: 1, Opinia: Bardzo dobry produkt!', 'ID: 2, Opinia: Dobry stosunek jakości do ceny.']\n",
      "Wszystkie opinie: ['ID: 1, Opinia: Bardzo dobry produkt!', 'ID: 2, Opinia: Dobry stosunek jakości do ceny.']\n",
      "Wszystkie opinie: ['ID: 1, Opinia: Bardzo dobry produkt!', 'ID: 2, Opinia: Dobry stosunek jakości do ceny.', 'ID: 1, Opinia: Szybka dostawa.']\n"
     ]
    }
   ],
   "source": [
    "class Produkt:\n",
    "    # Zmienna klasy dla ID i listy opinii\n",
    "    nastepny_id = 1\n",
    "    opinie = []  # Zmienna klasy (mutowalna)\n",
    "\n",
    "    def __init__(self, nazwa, cena):\n",
    "        # Zmienna instancji\n",
    "        self.nazwa = nazwa\n",
    "        self.cena = cena\n",
    "        # Zmienna klasy - unikalny identyfikator\n",
    "        self.id = Produkt.nastepny_id\n",
    "        Produkt.nastepny_id += 1\n",
    "\n",
    "    # Metoda dodająca opinie - modyfikuje zmienną klasy\n",
    "    def dodaj_opinie(self, opinia):\n",
    "        self.opinie.append(f\"ID: {self.id}, Opinia: {opinia}\")\n",
    "\n",
    "    # Metoda do wyświetlania wszystkich opinii (zmiennej klasy)\n",
    "    def pokaz_opinie(self):\n",
    "        print(f\"Wszystkie opinie: {self.opinie}\")\n",
    "\n",
    "# Tworzenie obiektów klasy Produkt\n",
    "produkt1 = Produkt(\"Laptop\", 3000)\n",
    "produkt2 = Produkt(\"Smartphone\", 1500)\n",
    "\n",
    "# Dodajemy opinie (zmienna mutowalna klasy)\n",
    "produkt1.dodaj_opinie(\"Bardzo dobry produkt!\")\n",
    "produkt2.dodaj_opinie(\"Dobry stosunek jakości do ceny.\")\n",
    "\n",
    "# Wyświetlamy wszystkie opinie (wspólna zmienna klasy)\n",
    "produkt1.pokaz_opinie()\n",
    "produkt2.pokaz_opinie()\n",
    "\n",
    "# Dodanie nowej opinii przez produkt1\n",
    "produkt1.dodaj_opinie(\"Szybka dostawa.\")\n",
    "\n",
    "# Wyświetlamy wszystkie opinie po dodaniu nowej opinii\n",
    "produkt1.pokaz_opinie()\n"
   ]
  },
  {
   "cell_type": "markdown",
   "id": "a52bfb3b-0d8c-468c-9099-2eeb141c4e64",
   "metadata": {},
   "source": [
    "## Wyjaśnienie problemu:\n",
    "Zmienna klasy opinie to mutowalna lista, która jest współdzielona przez wszystkie instancje klasy Produkt. Kiedy jakakolwiek instancja doda opinię, zmienia ona zawartość tej samej listy.\n",
    "Każdy produkt dodaje opinię do tej samej, wspólnej listy. To oznacza, że dodanie opinii dla jednego produktu skutkuje jej dodaniem do listy widocznej we wszystkich innych instancjach.\n",
    "\n",
    "## Rozwiązanie:\n",
    "Aby uniknąć tego problemu, można użyć zmiennych instancji dla elementów, które powinny być oddzielone między obiektami. Jeśli opinie miałyby być przechowywane osobno dla każdego produktu, lista opinie powinna być zmienną instancji, a nie zmienną klasy."
   ]
  },
  {
   "cell_type": "code",
   "execution_count": 7,
   "id": "6701723f-870b-4bd3-9a5d-99e654b34dc1",
   "metadata": {},
   "outputs": [
    {
     "name": "stdout",
     "output_type": "stream",
     "text": [
      "Wszystkie opinie: ['ID: 1, Opinia: Bardzo dobry produkt!']\n",
      "Wszystkie opinie: ['ID: 2, Opinia: Dobry stosunek jakości do ceny.']\n",
      "Wszystkie opinie: ['ID: 1, Opinia: Bardzo dobry produkt!', 'ID: 1, Opinia: Szybka dostawa.']\n"
     ]
    }
   ],
   "source": [
    "class Produkt:\n",
    "    # Zmienna klasy dla ID i listy opinii\n",
    "    nastepny_id = 1\n",
    "    \n",
    "\n",
    "    def __init__(self, nazwa, cena):\n",
    "        # Zmienna instancji\n",
    "        self.nazwa = nazwa\n",
    "        self.cena = cena\n",
    "        # Zmienna klasy - unikalny identyfikator\n",
    "        self.id = Produkt.nastepny_id\n",
    "        Produkt.nastepny_id += 1\n",
    "        self.opinie = []  # Zmienna instancji (mutowalna)\n",
    "\n",
    "    # Metoda dodająca opinie - modyfikuje zmienną klasy\n",
    "    def dodaj_opinie(self, opinia):\n",
    "        self.opinie.append(f\"ID: {self.id}, Opinia: {opinia}\")\n",
    "\n",
    "    # Metoda do wyświetlania wszystkich opinii (zmiennej klasy)\n",
    "    def pokaz_opinie(self):\n",
    "        print(f\"Wszystkie opinie: {self.opinie}\")\n",
    "\n",
    "# Tworzenie obiektów klasy Produkt\n",
    "produkt1 = Produkt(\"Laptop\", 3000)\n",
    "produkt2 = Produkt(\"Smartphone\", 1500)\n",
    "\n",
    "# Dodajemy opinie (zmienna mutowalna klasy)\n",
    "produkt1.dodaj_opinie(\"Bardzo dobry produkt!\")\n",
    "produkt2.dodaj_opinie(\"Dobry stosunek jakości do ceny.\")\n",
    "\n",
    "# Wyświetlamy wszystkie opinie (wspólna zmienna klasy)\n",
    "produkt1.pokaz_opinie()\n",
    "produkt2.pokaz_opinie()\n",
    "\n",
    "# Dodanie nowej opinii przez produkt1\n",
    "produkt1.dodaj_opinie(\"Szybka dostawa.\")\n",
    "\n",
    "# Wyświetlamy wszystkie opinie po dodaniu nowej opinii\n",
    "produkt1.pokaz_opinie()\n"
   ]
  },
  {
   "cell_type": "code",
   "execution_count": null,
   "id": "fbc8e4b7-f70a-4f6b-b131-c44571a8ef56",
   "metadata": {},
   "outputs": [],
   "source": []
  },
  {
   "cell_type": "code",
   "execution_count": null,
   "id": "0e478896-cedd-4487-bfdf-a9ab33c21c4e",
   "metadata": {},
   "outputs": [],
   "source": []
  }
 ],
 "metadata": {
  "kernelspec": {
   "display_name": "Python 3 (ipykernel)",
   "language": "python",
   "name": "python3"
  },
  "language_info": {
   "codemirror_mode": {
    "name": "ipython",
    "version": 3
   },
   "file_extension": ".py",
   "mimetype": "text/x-python",
   "name": "python",
   "nbconvert_exporter": "python",
   "pygments_lexer": "ipython3",
   "version": "3.11.2"
  }
 },
 "nbformat": 4,
 "nbformat_minor": 5
}

{
 "cells": [
  {
   "cell_type": "markdown",
   "id": "e42bead2",
   "metadata": {},
   "source": [
    "# **Wprowadzenie do PyTorch**\n",
    "PyTorch to elastyczna i wydajna biblioteka do uczenia maszynowego i głębokiego uczenia. Jest szeroko stosowana dzięki swojej prostocie, wsparciu dynamicznych grafów obliczeniowych oraz obsłudze obliczeń na GPU."
   ]
  },
  {
   "cell_type": "markdown",
   "id": "cf10faf2",
   "metadata": {},
   "source": [
    "## **1. Instalacja i konfiguracja**\n",
    "PyTorch można zainstalować za pomocą pip lub conda:\n",
    "```bash\n",
    "pip install torch torchvision torchaudio\n",
    "```\n",
    "Sprawdzenie wersji PyTorch:"
   ]
  },
  {
   "cell_type": "code",
   "execution_count": 1,
   "id": "b979e749",
   "metadata": {},
   "outputs": [
    {
     "name": "stdout",
     "output_type": "stream",
     "text": [
      "2.5.1+cpu\n"
     ]
    }
   ],
   "source": [
    "import torch\n",
    "print(torch.__version__)"
   ]
  },
  {
   "cell_type": "markdown",
   "id": "d5e871fc",
   "metadata": {},
   "source": [
    "## **2. Tensory w PyTorch**\n",
    "Tensory to podstawowa jednostka danych w PyTorch, podobna do tablic NumPy, ale z obsługą GPU."
   ]
  },
  {
   "cell_type": "code",
   "execution_count": 2,
   "id": "ec7b62f6",
   "metadata": {},
   "outputs": [
    {
     "name": "stdout",
     "output_type": "stream",
     "text": [
      "Tensor x: tensor([[1., 2.],\n",
      "        [3., 4.]])\n",
      "Dodawanie tensorów: tensor([[ 6.,  8.],\n",
      "        [10., 12.]])\n",
      "Tensor na GPU: tensor([[1., 2.],\n",
      "        [3., 4.]])\n"
     ]
    }
   ],
   "source": [
    "# Tworzenie tensora\n",
    "x = torch.tensor([[1, 2], [3, 4]], dtype=torch.float32)\n",
    "print(\"Tensor x:\", x)\n",
    "\n",
    "# Operacje matematyczne\n",
    "y = torch.tensor([[5, 6], [7, 8]])\n",
    "z = x + y\n",
    "print(\"Dodawanie tensorów:\", z)\n",
    "\n",
    "# Przeniesienie na GPU (jeśli dostępne)\n",
    "device = \"cuda\" if torch.cuda.is_available() else \"cpu\"\n",
    "x_gpu = x.to(device)\n",
    "print(\"Tensor na GPU:\", x_gpu)"
   ]
  },
  {
   "cell_type": "markdown",
   "id": "e64a0794",
   "metadata": {},
   "source": [
    "## **3. Przykład z danymi MNIST**\n",
    "### **a) Przygotowanie danych**\n",
    "Korzystamy z TorchVision, aby załadować dane MNIST."
   ]
  },
  {
   "cell_type": "code",
   "execution_count": 3,
   "id": "d0a06379",
   "metadata": {},
   "outputs": [
    {
     "name": "stdout",
     "output_type": "stream",
     "text": [
      "Downloading http://yann.lecun.com/exdb/mnist/train-images-idx3-ubyte.gz\n",
      "Failed to download (trying next):\n",
      "HTTP Error 403: Forbidden\n",
      "\n",
      "Downloading https://ossci-datasets.s3.amazonaws.com/mnist/train-images-idx3-ubyte.gz\n",
      "Downloading https://ossci-datasets.s3.amazonaws.com/mnist/train-images-idx3-ubyte.gz to mnist_data\\MNIST\\raw\\train-images-idx3-ubyte.gz\n"
     ]
    },
    {
     "name": "stderr",
     "output_type": "stream",
     "text": [
      "100.0%\n"
     ]
    },
    {
     "name": "stdout",
     "output_type": "stream",
     "text": [
      "Extracting mnist_data\\MNIST\\raw\\train-images-idx3-ubyte.gz to mnist_data\\MNIST\\raw\n",
      "\n",
      "Downloading http://yann.lecun.com/exdb/mnist/train-labels-idx1-ubyte.gz\n",
      "Failed to download (trying next):\n",
      "HTTP Error 403: Forbidden\n",
      "\n",
      "Downloading https://ossci-datasets.s3.amazonaws.com/mnist/train-labels-idx1-ubyte.gz\n",
      "Downloading https://ossci-datasets.s3.amazonaws.com/mnist/train-labels-idx1-ubyte.gz to mnist_data\\MNIST\\raw\\train-labels-idx1-ubyte.gz\n"
     ]
    },
    {
     "name": "stderr",
     "output_type": "stream",
     "text": [
      "100.0%\n"
     ]
    },
    {
     "name": "stdout",
     "output_type": "stream",
     "text": [
      "Extracting mnist_data\\MNIST\\raw\\train-labels-idx1-ubyte.gz to mnist_data\\MNIST\\raw\n",
      "\n",
      "Downloading http://yann.lecun.com/exdb/mnist/t10k-images-idx3-ubyte.gz\n",
      "Failed to download (trying next):\n",
      "HTTP Error 403: Forbidden\n",
      "\n",
      "Downloading https://ossci-datasets.s3.amazonaws.com/mnist/t10k-images-idx3-ubyte.gz\n",
      "Downloading https://ossci-datasets.s3.amazonaws.com/mnist/t10k-images-idx3-ubyte.gz to mnist_data\\MNIST\\raw\\t10k-images-idx3-ubyte.gz\n"
     ]
    },
    {
     "name": "stderr",
     "output_type": "stream",
     "text": [
      "100.0%\n"
     ]
    },
    {
     "name": "stdout",
     "output_type": "stream",
     "text": [
      "Extracting mnist_data\\MNIST\\raw\\t10k-images-idx3-ubyte.gz to mnist_data\\MNIST\\raw\n",
      "\n",
      "Downloading http://yann.lecun.com/exdb/mnist/t10k-labels-idx1-ubyte.gz\n",
      "Failed to download (trying next):\n",
      "HTTP Error 403: Forbidden\n",
      "\n",
      "Downloading https://ossci-datasets.s3.amazonaws.com/mnist/t10k-labels-idx1-ubyte.gz\n",
      "Downloading https://ossci-datasets.s3.amazonaws.com/mnist/t10k-labels-idx1-ubyte.gz to mnist_data\\MNIST\\raw\\t10k-labels-idx1-ubyte.gz\n"
     ]
    },
    {
     "name": "stderr",
     "output_type": "stream",
     "text": [
      "100.0%"
     ]
    },
    {
     "name": "stdout",
     "output_type": "stream",
     "text": [
      "Extracting mnist_data\\MNIST\\raw\\t10k-labels-idx1-ubyte.gz to mnist_data\\MNIST\\raw\n",
      "\n"
     ]
    },
    {
     "name": "stderr",
     "output_type": "stream",
     "text": [
      "\n"
     ]
    }
   ],
   "source": [
    "from torchvision import datasets, transforms\n",
    "\n",
    "# Transformacje danych\n",
    "transform = transforms.Compose([\n",
    "    transforms.ToTensor(),\n",
    "    transforms.Normalize((0.5,), (0.5,))\n",
    "])\n",
    "\n",
    "# Ładowanie danych\n",
    "train_dataset = datasets.MNIST(root='mnist_data', train=True, transform=transform, download=True)\n",
    "test_dataset = datasets.MNIST(root='mnist_data', train=False, transform=transform, download=True)\n",
    "\n",
    "# DataLoader (do iteracji po danych)\n",
    "train_loader = torch.utils.data.DataLoader(dataset=train_dataset, batch_size=64, shuffle=True)\n",
    "test_loader = torch.utils.data.DataLoader(dataset=test_dataset, batch_size=64, shuffle=False)"
   ]
  },
  {
   "cell_type": "markdown",
   "id": "4ab9c24f",
   "metadata": {},
   "source": [
    "### **b) Budowa modelu**\n",
    "Definiujemy prostą sieć neuronową z jedną warstwą ukrytą."
   ]
  },
  {
   "cell_type": "code",
   "execution_count": 4,
   "id": "fc1ffa38",
   "metadata": {},
   "outputs": [],
   "source": [
    "import torch.nn as nn\n",
    "\n",
    "class NeuralNet(nn.Module):\n",
    "    def __init__(self, input_size, hidden_size, num_classes):\n",
    "        super(NeuralNet, self).__init__()\n",
    "        self.fc1 = nn.Linear(input_size, hidden_size)\n",
    "        self.relu = nn.ReLU()\n",
    "        self.fc2 = nn.Linear(hidden_size, num_classes)\n",
    "\n",
    "    def forward(self, x):\n",
    "        x = self.fc1(x)\n",
    "        x = self.relu(x)\n",
    "        x = self.fc2(x)\n",
    "        return x\n",
    "\n",
    "# Model dla MNIST\n",
    "model = NeuralNet(input_size=28*28, hidden_size=128, num_classes=10)"
   ]
  },
  {
   "cell_type": "markdown",
   "id": "964c4cd1",
   "metadata": {},
   "source": [
    "### **c) Trenowanie modelu**\n",
    "Używamy CrossEntropyLoss jako funkcji strat i optymalizatora Adam."
   ]
  },
  {
   "cell_type": "code",
   "execution_count": 5,
   "id": "6b6d4852",
   "metadata": {},
   "outputs": [
    {
     "name": "stdout",
     "output_type": "stream",
     "text": [
      "Epoch [1/5], Loss: 0.3032\n",
      "Epoch [2/5], Loss: 0.3109\n",
      "Epoch [3/5], Loss: 0.2280\n",
      "Epoch [4/5], Loss: 0.0656\n",
      "Epoch [5/5], Loss: 0.0244\n"
     ]
    }
   ],
   "source": [
    "import torch.optim as optim\n",
    "\n",
    "# Funkcja kosztu\n",
    "criterion = nn.CrossEntropyLoss()\n",
    "\n",
    "# Optymalizator\n",
    "optimizer = optim.Adam(model.parameters(), lr=0.001)\n",
    "\n",
    "# Pętla trenowania\n",
    "for epoch in range(5):  # Liczba epok\n",
    "    for images, labels in train_loader:\n",
    "        # Przekształcenie obrazów (28x28 -> 784)\n",
    "        images = images.view(-1, 28*28)\n",
    "\n",
    "        # Forward pass\n",
    "        outputs = model(images)\n",
    "        loss = criterion(outputs, labels)\n",
    "\n",
    "        # Backward pass i optymalizacja\n",
    "        optimizer.zero_grad()\n",
    "        loss.backward()\n",
    "        optimizer.step()\n",
    "\n",
    "    print(f\"Epoch [{epoch+1}/5], Loss: {loss.item():.4f}\")"
   ]
  },
  {
   "cell_type": "markdown",
   "id": "7631a0cd",
   "metadata": {},
   "source": [
    "### **d) Ocena modelu**\n",
    "Oceniamy dokładność modelu na zbiorze testowym."
   ]
  },
  {
   "cell_type": "code",
   "execution_count": 6,
   "id": "6470c6f8",
   "metadata": {},
   "outputs": [
    {
     "name": "stdout",
     "output_type": "stream",
     "text": [
      "Dokładność: 96.95%\n"
     ]
    }
   ],
   "source": [
    "# Ocena dokładności na zbiorze testowym\n",
    "model.eval()  # Przełączenie na tryb ewaluacji\n",
    "with torch.no_grad():\n",
    "    correct = 0\n",
    "    total = 0\n",
    "    for images, labels in test_loader:\n",
    "        images = images.view(-1, 28*28)\n",
    "        outputs = model(images)\n",
    "        _, predicted = torch.max(outputs, 1)\n",
    "        total += labels.size(0)\n",
    "        correct += (predicted == labels).sum().item()\n",
    "\n",
    "    print(f\"Dokładność: {100 * correct / total:.2f}%\")"
   ]
  }
 ],
 "metadata": {
  "kernelspec": {
   "display_name": "venv",
   "language": "python",
   "name": "python3"
  },
  "language_info": {
   "codemirror_mode": {
    "name": "ipython",
    "version": 3
   },
   "file_extension": ".py",
   "mimetype": "text/x-python",
   "name": "python",
   "nbconvert_exporter": "python",
   "pygments_lexer": "ipython3",
   "version": "3.11.2"
  }
 },
 "nbformat": 4,
 "nbformat_minor": 5
}

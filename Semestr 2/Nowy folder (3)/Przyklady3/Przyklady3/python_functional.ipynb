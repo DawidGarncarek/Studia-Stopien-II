{
 "cells": [
  {
   "cell_type": "markdown",
   "id": "1489e29b",
   "metadata": {},
   "source": [
    "\n",
    "# Programowanie funkcyjne i list comprehensions w Pythonie\n",
    "\n",
    "- Programowanie funkcyjne\n",
    "- List comprehensions (składnia listowa)\n"
   ]
  },
  {
   "cell_type": "markdown",
   "id": "c854fec4",
   "metadata": {},
   "source": [
    "\n",
    "## Programowanie funkcyjne\n",
    "\n",
    "Python wspiera paradygmat programowania funkcyjnego, w którym funkcje są traktowane jako obywatel pierwszej kategorii (ang. *first-class citizens*). Oznacza to, że funkcje mogą być przekazywane jako argumenty do innych funkcji, zwracane z funkcji oraz przechowywane w zmiennych. Programowanie funkcyjne skupia się na operowaniu na funkcjach i danych zamiast na zmianach stanu obiektów.\n",
    "\n",
    "Najważniejsze funkcje wspierające programowanie funkcyjne w Pythonie to:\n",
    "\n",
    "- `map()`\n",
    "- `filter()`\n",
    "- `reduce()` (z modułu `functools`)\n",
    "- Funkcje anonimowe (lambda)\n",
    "\n",
    "### Przykład użycia funkcji `map()`, `filter()` oraz `lambda`:\n"
   ]
  },
  {
   "cell_type": "code",
   "execution_count": 1,
   "id": "2241f548",
   "metadata": {},
   "outputs": [
    {
     "name": "stdout",
     "output_type": "stream",
     "text": [
      "Kwadraty liczb: [1, 4, 9, 16, 25]\n",
      "Liczby parzyste: [2, 4]\n",
      "Suma liczb: 15\n"
     ]
    }
   ],
   "source": [
    "\n",
    "from functools import reduce\n",
    "\n",
    "# Funkcja map() - zastosowanie funkcji do każdego elementu listy\n",
    "liczby = [1, 2, 3, 4, 5]\n",
    "kwadraty = list(map(lambda x: x**2, liczby))\n",
    "print(\"Kwadraty liczb:\", kwadraty)\n",
    "\n",
    "# Funkcja filter() - filtrowanie elementów na podstawie warunku\n",
    "parzyste = list(filter(lambda x: x % 2 == 0, liczby))\n",
    "print(\"Liczby parzyste:\", parzyste)\n",
    "\n",
    "# Funkcja reduce() - redukowanie listy do jednej wartości (suma elementów)\n",
    "suma = reduce(lambda x, y: x + y, liczby)\n",
    "print(\"Suma liczb:\", suma)\n"
   ]
  },
  {
   "cell_type": "markdown",
   "id": "dc08f996",
   "metadata": {},
   "source": [
    "\n",
    "## List comprehensions (Składnia listowa)\n",
    "\n",
    "List comprehensions to elegancka i czytelna składnia, która pozwala na tworzenie nowych list na podstawie istniejących sekwencji w jednej linii. Składnia list comprehensions wygląda następująco:\n",
    "\n",
    "```python\n",
    "[wyrażenie for element in sekwencja if warunek]\n",
    "```\n",
    "\n",
    "### Przykłady list comprehensions:\n"
   ]
  },
  {
   "cell_type": "code",
   "execution_count": 2,
   "id": "2a19225d",
   "metadata": {},
   "outputs": [
    {
     "name": "stdout",
     "output_type": "stream",
     "text": [
      "Kwadraty: [1, 4, 9, 16, 25]\n",
      "Kwadraty liczb parzystych: [4, 16]\n",
      "Kombinacje: [(1, 3), (1, 4), (2, 3), (2, 4)]\n"
     ]
    }
   ],
   "source": [
    "\n",
    "# Tworzenie listy kwadratów liczb\n",
    "liczby = [1, 2, 3, 4, 5]\n",
    "kwadraty = [x**2 for x in liczby]\n",
    "print(\"Kwadraty:\", kwadraty)\n",
    "\n",
    "# List comprehension z warunkiem (tylko liczby parzyste)\n",
    "parzyste_kwadraty = [x**2 for x in liczby if x % 2 == 0]\n",
    "print(\"Kwadraty liczb parzystych:\", parzyste_kwadraty)\n",
    "\n",
    "# List comprehension z pętlą zagnieżdżoną (tworzenie listy kombinacji)\n",
    "kombinacje = [(x, y) for x in range(1, 3) for y in range(3, 5)]\n",
    "print(\"Kombinacje:\", kombinacje)\n"
   ]
  },
  {
   "cell_type": "code",
   "execution_count": null,
   "id": "7e007786-a580-4ba2-a9e2-1a9fab3253d4",
   "metadata": {},
   "outputs": [],
   "source": []
  },
  {
   "cell_type": "code",
   "execution_count": null,
   "id": "40fc3e44-719d-4b12-ac54-5450003d2dd8",
   "metadata": {},
   "outputs": [],
   "source": []
  }
 ],
 "metadata": {
  "kernelspec": {
   "display_name": "Python 3 (ipykernel)",
   "language": "python",
   "name": "python3"
  },
  "language_info": {
   "codemirror_mode": {
    "name": "ipython",
    "version": 3
   },
   "file_extension": ".py",
   "mimetype": "text/x-python",
   "name": "python",
   "nbconvert_exporter": "python",
   "pygments_lexer": "ipython3",
   "version": "3.11.2"
  }
 },
 "nbformat": 4,
 "nbformat_minor": 5
}

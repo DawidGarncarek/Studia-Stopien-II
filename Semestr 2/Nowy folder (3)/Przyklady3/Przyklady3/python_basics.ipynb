{
 "cells": [
  {
   "cell_type": "markdown",
   "id": "eb41296a",
   "metadata": {},
   "source": [
    "\n",
    "# Podstawowe zagadnienia Pythona\n",
    "\n",
    "W tym notatniku omówimy podstawowe zagadnienia związane z Pythonem, takie jak:\n",
    "\n",
    "- Typy zmiennych\n",
    "- Stringi (ciągi znaków)\n",
    "- Sekwencje\n",
    "- Operacje na zmiennych\n",
    "- Zmienne mutowalne i niemutowalne\n"
   ]
  },
  {
   "cell_type": "markdown",
   "id": "3ae08f51",
   "metadata": {},
   "source": [
    "\n",
    "## Typy zmiennych\n",
    "\n",
    "W Pythonie zmienne są dynamicznie typowane, co oznacza, że nie musisz jawnie deklarować ich typu. Typ zmiennej jest ustalany na podstawie przypisanej wartości. Najpopularniejsze typy zmiennych to:\n",
    "\n",
    "- `int` : liczby całkowite\n",
    "- `float` : liczby zmiennoprzecinkowe\n",
    "- `str` : ciągi znaków (stringi)\n",
    "- `bool` : wartości logiczne (True/False)\n",
    "- `list` : listy (sekwencje mutowalne)\n",
    "- `tuple` : krotki (sekwencje niemutowalne)\n",
    "- `dict` : słowniki\n",
    "\n",
    "Przykłady różnych typów zmiennych:\n"
   ]
  },
  {
   "cell_type": "code",
   "execution_count": 1,
   "id": "0e456211",
   "metadata": {},
   "outputs": [
    {
     "name": "stdout",
     "output_type": "stream",
     "text": [
      "<class 'int'> 42\n",
      "<class 'float'> 3.14\n",
      "<class 'str'> Witaj, Python!\n",
      "<class 'bool'> True\n",
      "<class 'list'> [1, 2, 3]\n",
      "<class 'tuple'> (4, 5, 6)\n",
      "<class 'dict'> {'klucz': 'wartość'}\n"
     ]
    }
   ],
   "source": [
    "\n",
    "# Przykłady różnych typów zmiennych\n",
    "\n",
    "a = 42          # int\n",
    "b = 3.14        # float\n",
    "c = 'Witaj, Python!'  # str\n",
    "d = True        # bool\n",
    "e = [1, 2, 3]   # lista (mutowalna)\n",
    "f = (4, 5, 6)   # krotka (niemutowalna)\n",
    "g = {'klucz': 'wartość'}  # słownik\n",
    "\n",
    "print(type(a), a)\n",
    "print(type(b), b)\n",
    "print(type(c), c)\n",
    "print(type(d), d)\n",
    "print(type(e), e)\n",
    "print(type(f), f)\n",
    "print(type(g), g)\n"
   ]
  },
  {
   "cell_type": "markdown",
   "id": "5f493cf3",
   "metadata": {},
   "source": [
    "\n",
    "## Stringi w Pythonie\n",
    "\n",
    "Stringi to sekwencje znaków, które mogą być ujęte w pojedyncze (`'`) lub podwójne (`\"`) cudzysłowy. Stringi w Pythonie są niemutowalne, co oznacza, że po utworzeniu nie można ich zmieniać. Można na nich jednak wykonywać operacje takie jak łączenie (konkatenacja), modyfikacja wielkości liter czy wycinanie (slicing).\n",
    "\n",
    "Przykłady operacji na stringach:\n"
   ]
  },
  {
   "cell_type": "code",
   "execution_count": 2,
   "id": "b52cc01f",
   "metadata": {},
   "outputs": [
    {
     "name": "stdout",
     "output_type": "stream",
     "text": [
      "Programowanie w Pythonie\n",
      "Długość stringu: 24\n",
      "Pierwszy znak: P\n",
      "Ostatni znak: e\n",
      "Fragment [0:12]: Programowani\n",
      "Wielkie litery: PROGRAMOWANIE W PYTHONIE\n",
      "Łączenie stringów: Programowanie w Pythonie jest super!\n"
     ]
    }
   ],
   "source": [
    "\n",
    "# Przykłady operacji na stringach\n",
    "\n",
    "s = \"Programowanie w Pythonie\"\n",
    "print(s)\n",
    "print(\"Długość stringu:\", len(s))\n",
    "print(\"Pierwszy znak:\", s[0])\n",
    "print(\"Ostatni znak:\", s[-1])\n",
    "print(\"Fragment [0:12]:\", s[0:12])\n",
    "print(\"Wielkie litery:\", s.upper())\n",
    "print(\"Łączenie stringów:\", s + \" jest super!\")\n"
   ]
  },
  {
   "cell_type": "markdown",
   "id": "3f0962c3",
   "metadata": {},
   "source": [
    "\n",
    "## Sekwencje\n",
    "\n",
    "Sekwencje to uporządkowane zbiory elementów. Najpopularniejsze typy sekwencji w Pythonie to listy, krotki oraz stringi. Listy są mutowalne (można je zmieniać), podczas gdy krotki i stringi są niemutowalne. Sekwencje obsługują operacje takie jak indeksowanie, wycinanie (slicing) oraz różne operacje na elementach.\n",
    "\n",
    "Przykłady sekwencji:\n"
   ]
  },
  {
   "cell_type": "code",
   "execution_count": 3,
   "id": "b5d05594",
   "metadata": {},
   "outputs": [
    {
     "name": "stdout",
     "output_type": "stream",
     "text": [
      "Pierwszy element listy: 10\n",
      "Ostatni element krotki: 500\n",
      "Fragment listy [1:4]: [20, 30, 40]\n",
      "Fragment krotki [2:]: (300, 400, 500)\n",
      "Zmodyfikowana lista: [999, 20, 30, 40, 50]\n",
      "Błąd przy modyfikacji krotki: 'tuple' object does not support item assignment\n"
     ]
    }
   ],
   "source": [
    "\n",
    "# Przykłady sekwencji (lista i krotka)\n",
    "\n",
    "moja_lista = [10, 20, 30, 40, 50]  # lista (mutowalna)\n",
    "moja_krotka = (100, 200, 300, 400, 500)  # krotka (niemutowalna)\n",
    "\n",
    "# Indeksowanie\n",
    "print(\"Pierwszy element listy:\", moja_lista[0])\n",
    "print(\"Ostatni element krotki:\", moja_krotka[-1])\n",
    "\n",
    "# Wycinanie (slicing)\n",
    "print(\"Fragment listy [1:4]:\", moja_lista[1:4])\n",
    "print(\"Fragment krotki [2:]:\", moja_krotka[2:])\n",
    "\n",
    "# Modyfikacja listy (mutowalna)\n",
    "moja_lista[0] = 999\n",
    "print(\"Zmodyfikowana lista:\", moja_lista)\n",
    "\n",
    "# Próba modyfikacji krotki (niemutowalna)\n",
    "try:\n",
    "    moja_krotka[0] = 999\n",
    "except TypeError as e:\n",
    "    print(\"Błąd przy modyfikacji krotki:\", e)\n"
   ]
  },
  {
   "cell_type": "markdown",
   "id": "9814093b",
   "metadata": {},
   "source": [
    "\n",
    "## Operacje na zmiennych\n",
    "\n",
    "Na zmiennych w Pythonie można wykonywać różne operacje, takie jak:\n",
    "\n",
    "- Aritmetyczne (`+`, `-`, `*`, `/`, `//`, `%`)\n",
    "- Logiczne (`and`, `or`, `not`)\n",
    "- Porównania (`==`, `!=`, `>`, `<`, `>=`, `<=`)\n",
    "\n",
    "Przykłady operacji:\n"
   ]
  },
  {
   "cell_type": "code",
   "execution_count": 4,
   "id": "096842e0",
   "metadata": {},
   "outputs": [
    {
     "name": "stdout",
     "output_type": "stream",
     "text": [
      "Dodawanie: 13\n",
      "Odejmowanie: 7\n",
      "Mnożenie: 30\n",
      "Dzielenie: 3.3333333333333335\n",
      "Dzielenie całkowite: 3\n",
      "Modulo: 1\n",
      "a and b: False\n",
      "a or b: True\n",
      "not a: False\n",
      "x == y: False\n",
      "x != y: True\n",
      "x > y: True\n",
      "x < y: False\n"
     ]
    }
   ],
   "source": [
    "\n",
    "# Operacje arytmetyczne\n",
    "x = 10\n",
    "y = 3\n",
    "\n",
    "print(\"Dodawanie:\", x + y)\n",
    "print(\"Odejmowanie:\", x - y)\n",
    "print(\"Mnożenie:\", x * y)\n",
    "print(\"Dzielenie:\", x / y)\n",
    "print(\"Dzielenie całkowite:\", x // y)\n",
    "print(\"Modulo:\", x % y)\n",
    "\n",
    "# Operacje logiczne\n",
    "a = True\n",
    "b = False\n",
    "\n",
    "print(\"a and b:\", a and b)\n",
    "print(\"a or b:\", a or b)\n",
    "print(\"not a:\", not a)\n",
    "\n",
    "# Operacje porównania\n",
    "print(\"x == y:\", x == y)\n",
    "print(\"x != y:\", x != y)\n",
    "print(\"x > y:\", x > y)\n",
    "print(\"x < y:\", x < y)\n"
   ]
  },
  {
   "cell_type": "markdown",
   "id": "c8a10c38",
   "metadata": {},
   "source": [
    "\n",
    "## Zmienne mutowalne i niemutowalne\n",
    "\n",
    "- **Mutowalne** zmienne można zmieniać po ich utworzeniu. Przykłady to listy, słowniki.\n",
    "- **Niemutowalne** zmienne nie mogą być zmieniane po ich utworzeniu. Przykłady to stringi, krotki, liczby całkowite.\n",
    "\n",
    "Przykłady:\n"
   ]
  },
  {
   "cell_type": "code",
   "execution_count": 5,
   "id": "d64045b8",
   "metadata": {},
   "outputs": [
    {
     "name": "stdout",
     "output_type": "stream",
     "text": [
      "Zmodyfikowana lista (mutowalna): [1, 2, 3, 4]\n",
      "Błąd przy próbie modyfikacji stringu (niemutowalny): 'str' object does not support item assignment\n"
     ]
    }
   ],
   "source": [
    "\n",
    "# Przykłady zmiennych mutowalnych i niemutowalnych\n",
    "\n",
    "# Zmienna mutowalna (lista)\n",
    "mutowalna_lista = [1, 2, 3]\n",
    "mutowalna_lista.append(4)\n",
    "print(\"Zmodyfikowana lista (mutowalna):\", mutowalna_lista)\n",
    "\n",
    "# Zmienna niemutowalna (string)\n",
    "niemutowalny_string = \"Python\"\n",
    "try:\n",
    "    niemutowalny_string[0] = 'J'\n",
    "except TypeError as e:\n",
    "    print(\"Błąd przy próbie modyfikacji stringu (niemutowalny):\", e)\n"
   ]
  },
  {
   "cell_type": "markdown",
   "id": "89db0f5f-cb5f-4782-87d2-69ebd2110cae",
   "metadata": {},
   "source": [
    "## Slicing (wycinanie fragmentów z sekwencji)\n",
    "\n",
    "Slicing to sposób na pobieranie fragmentów sekwencji (takich jak listy, krotki lub stringi) w Pythonie. Składnia wycinania wygląda następująco: `sekwencja[start:stop:step]`.\n",
    "\n",
    "- `start`: indeks, od którego zaczyna się wycinanie (włącznie),\n",
    "- `stop`: indeks, na którym kończy się wycinanie (wyłączając ten element),\n",
    "- `step`: krok, co ile elementów pobieramy.\n",
    "\n",
    "Przykłady slicing'u:\n"
   ]
  },
  {
   "cell_type": "code",
   "execution_count": 6,
   "id": "5f575d3d-e7f1-4ef9-a116-a758c406a67b",
   "metadata": {},
   "outputs": [
    {
     "name": "stdout",
     "output_type": "stream",
     "text": [
      "Oryginalna lista: [10, 20, 30, 40, 50, 60, 70, 80]\n",
      "Fragment [1:5]: [20, 30, 40, 50]\n",
      "Co drugi element [::2]: [10, 30, 50, 70]\n",
      "Odwrócona lista [::-1]: [80, 70, 60, 50, 40, 30, 20, 10]\n"
     ]
    }
   ],
   "source": [
    "\n",
    "# Przykłady slicing'u\n",
    "\n",
    "lista = [10, 20, 30, 40, 50, 60, 70, 80]\n",
    "\n",
    "print(\"Oryginalna lista:\", lista)\n",
    "\n",
    "# Wycinanie od indeksu 1 do 5\n",
    "print(\"Fragment [1:5]:\", lista[1:5])\n",
    "\n",
    "# Wycinanie co drugi element\n",
    "print(\"Co drugi element [::2]:\", lista[::2])\n",
    "\n",
    "# Odwrócona lista\n",
    "print(\"Odwrócona lista [::-1]:\", lista[::-1])\n"
   ]
  },
  {
   "cell_type": "markdown",
   "id": "9e99534f-21d6-42cf-a817-f91ae4e367d6",
   "metadata": {},
   "source": [
    "\n",
    "## Kopia płytka (Shallow Copy)\n",
    "\n",
    "Kopia płytka tworzy nowy obiekt, ale elementy wewnątrz obiektu są referencjami do oryginalnych elementów. Oznacza to, że zmiany w elementach mutowalnych w oryginalnej liście będą widoczne w kopii płytkiej.\n",
    "\n",
    "Kopię płytką można utworzyć za pomocą metody `.copy()`, funkcji `list()` lub wykorzystując slicing `[:]`.\n",
    "\n",
    "Przykład kopii płytkiej:\n"
   ]
  },
  {
   "cell_type": "code",
   "execution_count": 3,
   "id": "c1b672b7-f563-4698-a269-8a6263b5df86",
   "metadata": {},
   "outputs": [
    {
     "name": "stdout",
     "output_type": "stream",
     "text": [
      "[10, 2, 3]\n",
      "[10, 2, 3]\n",
      "[90, 2, 3]\n",
      "[10, 2, 3]\n",
      "Oryginalna lista: [[99, 2, 3], [4, 5, 6], [7, 8, 9]]\n",
      "Kopia płytka: [[99, 2, 3], [4, 5, 6], [7, 8, 9]]\n"
     ]
    }
   ],
   "source": [
    "lista1 = [1,2,3]\n",
    "lista2 = lista1\n",
    "lista2[0]=10\n",
    "print(lista1)\n",
    "print(lista2)\n",
    "\n",
    "lista3 = lista1.copy()\n",
    "lista3[0] = 90\n",
    "print(lista3)\n",
    "print(lista1)\n",
    "# Przykład kopii płytkiej\n",
    "\n",
    "oryginalna_lista = [[1, 2, 3], [4, 5, 6], [7, 8, 9]]\n",
    "plytka_kopia = oryginalna_lista.copy()\n",
    "\n",
    "# Modyfikujemy element w oryginalnej liście\n",
    "oryginalna_lista[0][0] = 99\n",
    "\n",
    "print(\"Oryginalna lista:\", oryginalna_lista)\n",
    "print(\"Kopia płytka:\", plytka_kopia)\n"
   ]
  },
  {
   "cell_type": "markdown",
   "id": "9a488dfc-31a6-4017-bd79-cb2dc645552b",
   "metadata": {},
   "source": [
    "\n",
    "## Kopia głęboka (Deep Copy)\n",
    "\n",
    "Kopia głęboka tworzy całkowicie nowy obiekt, a wszystkie elementy wewnątrz są rekurencyjnie kopiowane. Oznacza to, że zmiany w oryginalnej liście nie wpłyną na kopię głęboką.\n",
    "\n",
    "Kopię głęboką można utworzyć za pomocą modułu `copy` i funkcji `deepcopy()`.\n",
    "\n",
    "Przykład kopii głębokiej:\n"
   ]
  },
  {
   "cell_type": "code",
   "execution_count": 9,
   "id": "87f61b77-733d-48ea-8348-087f25bf2d9b",
   "metadata": {},
   "outputs": [
    {
     "name": "stdout",
     "output_type": "stream",
     "text": [
      "Oryginalna lista: [[99, 2, 3], [4, 5, 6], [7, 8, 9]]\n",
      "Kopia głęboka: [[1, 2, 3], [4, 5, 6], [7, 8, 9]]\n"
     ]
    }
   ],
   "source": [
    "\n",
    "# Przykład kopii głębokiej\n",
    "import copy\n",
    "\n",
    "oryginalna_lista = [[1, 2, 3], [4, 5, 6], [7, 8, 9]]\n",
    "gleboka_kopia = copy.deepcopy(oryginalna_lista)\n",
    "\n",
    "# Modyfikujemy element w oryginalnej liście\n",
    "oryginalna_lista[0][0] = 99\n",
    "\n",
    "print(\"Oryginalna lista:\", oryginalna_lista)\n",
    "print(\"Kopia głęboka:\", gleboka_kopia)\n"
   ]
  },
  {
   "cell_type": "code",
   "execution_count": null,
   "id": "6f854485-2f9a-4ae8-be52-1340edb04dc8",
   "metadata": {},
   "outputs": [],
   "source": []
  }
 ],
 "metadata": {
  "kernelspec": {
   "display_name": "Python 3 (ipykernel)",
   "language": "python",
   "name": "python3"
  },
  "language_info": {
   "codemirror_mode": {
    "name": "ipython",
    "version": 3
   },
   "file_extension": ".py",
   "mimetype": "text/x-python",
   "name": "python",
   "nbconvert_exporter": "python",
   "pygments_lexer": "ipython3",
   "version": "3.11.2"
  }
 },
 "nbformat": 4,
 "nbformat_minor": 5
}

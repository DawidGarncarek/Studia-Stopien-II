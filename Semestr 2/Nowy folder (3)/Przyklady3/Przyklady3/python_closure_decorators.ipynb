{
 "cells": [
  {
   "cell_type": "markdown",
   "id": "047805f9",
   "metadata": {},
   "source": [
    "\n",
    "# Przekazywanie argumentów, clousure i dekoratory w Pythonie\n",
    "\n",
    "\n",
    "- Przekazywanie argumentów do metod i funkcji\n",
    "- Clousure (domknięcia)\n",
    "- Dekoratory\n",
    "\n"
   ]
  },
  {
   "cell_type": "markdown",
   "id": "51e33adb",
   "metadata": {},
   "source": [
    "\n",
    "## Przekazywanie argumentów do metod i funkcji\n",
    "\n",
    "W Pythonie możemy przekazywać argumenty do funkcji i metod na kilka sposobów:\n",
    "\n",
    "- Argumenty pozycyjne\n",
    "- Argumenty nazwane (słowa kluczowe)\n",
    "- Argumenty z wartościami domyślnymi\n",
    "- Argumenty *args (zmienna liczba argumentów pozycyjnych)\n",
    "- Argumenty **kwargs (zmienna liczba argumentów nazwanych)\n",
    "\n",
    "### Przykłady przekazywania argumentów:\n"
   ]
  },
  {
   "cell_type": "code",
   "execution_count": 1,
   "id": "5883fb94",
   "metadata": {},
   "outputs": [
    {
     "name": "stdout",
     "output_type": "stream",
     "text": [
      "Argument pozycyjny a: 1\n",
      "Argument z wartością domyślną b: 2\n",
      "Argumenty dodatkowe (args): ()\n",
      "Argumenty nazwane (kwargs): {}\n",
      "Argument pozycyjny a: 1\n",
      "Argument z wartością domyślną b: 3\n",
      "Argumenty dodatkowe (args): (4, 5)\n",
      "Argumenty nazwane (kwargs): {'imie': 'Jan', 'wiek': 25}\n"
     ]
    }
   ],
   "source": [
    "\n",
    "# Funkcja z różnymi typami argumentów\n",
    "\n",
    "def przyklad_argumentow(a, b=2, *args, **kwargs):\n",
    "    print(\"Argument pozycyjny a:\", a)\n",
    "    print(\"Argument z wartością domyślną b:\", b)\n",
    "    print(\"Argumenty dodatkowe (args):\", args)\n",
    "    print(\"Argumenty nazwane (kwargs):\", kwargs)\n",
    "\n",
    "# Wywołanie funkcji z różnymi argumentami\n",
    "przyklad_argumentow(1)\n",
    "przyklad_argumentow(1, 3, 4, 5, imie=\"Jan\", wiek=25)\n"
   ]
  },
  {
   "cell_type": "markdown",
   "id": "8afd4aca",
   "metadata": {},
   "source": [
    "\n",
    "## Closure (Domknięcie)\n",
    "\n",
    "Domknięcie (closure) to funkcja, która zapamiętuje wartości zmiennych z zewnętrznego zakresu, nawet po zakończeniu działania tego zakresu. Dzięki temu możliwe jest tworzenie funkcji, które \"przechowują\" pewien stan.\n",
    "\n",
    "### Przykład closure:\n"
   ]
  },
  {
   "cell_type": "code",
   "execution_count": 2,
   "id": "e86ddb70",
   "metadata": {},
   "outputs": [
    {
     "name": "stdout",
     "output_type": "stream",
     "text": [
      "5 + 3 = 8\n",
      "10 + 7 = 17\n"
     ]
    }
   ],
   "source": [
    "\n",
    "# Przykład closure\n",
    "\n",
    "def zewnetrzna(x):\n",
    "    def wewnetrzna(y):\n",
    "        return x + y  # x jest \"zapamiętane\" przez domknięcie\n",
    "    return wewnetrzna\n",
    "\n",
    "# Funkcja zewnętrzna zwraca funkcję wewnętrzną\n",
    "dodaj_5 = zewnetrzna(5)  # x = 5\n",
    "dodaj_10 = zewnetrzna(10)  # x = 10\n",
    "\n",
    "# Teraz funkcje domknięcia przechowują wartość x\n",
    "print(\"5 + 3 =\", dodaj_5(3))  # x = 5, y = 3\n",
    "print(\"10 + 7 =\", dodaj_10(7))  # x = 10, y = 7\n"
   ]
  },
  {
   "cell_type": "markdown",
   "id": "39aa90a7",
   "metadata": {},
   "source": [
    "\n",
    "## Dekoratory\n",
    "\n",
    "Dekorator to funkcja, która przyjmuje inną funkcję jako argument i rozszerza jej działanie, zwracając nową funkcję. Jest to przydatne do modyfikowania funkcji bez zmieniania ich kodu. Dekorator stosujemy, używając składni `@nazwa_dekoratora` nad dekorowaną funkcją.\n",
    "\n",
    "### Przykład dekoratora:\n"
   ]
  },
  {
   "cell_type": "code",
   "execution_count": 1,
   "id": "eb0e0351",
   "metadata": {},
   "outputs": [
    {
     "name": "stdout",
     "output_type": "stream",
     "text": [
      "Wykonywanie funkcji: przyklad\n",
      "Funkcja zakończona.\n",
      "Wynik: 7\n"
     ]
    }
   ],
   "source": [
    "\n",
    "# Przykład dekoratora\n",
    "\n",
    "def dekorator(funkcja):\n",
    "    def nowa_funkcja(*args, **kwargs):\n",
    "        print(\"Wykonywanie funkcji:\", funkcja.__name__)\n",
    "        wynik = funkcja(*args, **kwargs)\n",
    "        print(\"Funkcja zakończona.\")\n",
    "        return wynik\n",
    "    return nowa_funkcja\n",
    "\n",
    "# Dekorowanie funkcji\n",
    "@dekorator\n",
    "def przyklad(x, y):\n",
    "    return x + y\n",
    "\n",
    "# Wywołanie funkcji\n",
    "wynik = przyklad(3, 4)\n",
    "print(\"Wynik:\", wynik)\n"
   ]
  },
  {
   "cell_type": "code",
   "execution_count": 7,
   "id": "13d7f5af-5e41-47f6-8b57-69a342f13163",
   "metadata": {},
   "outputs": [
    {
     "name": "stdout",
     "output_type": "stream",
     "text": [
      "Funkcja zakończyła działanie.\n",
      "Czas wykonania funkcji przyklad_funkcji: 2.0009 sekund\n"
     ]
    }
   ],
   "source": [
    "import time\n",
    "\n",
    "def zmierz_czas(funkcja):\n",
    "    def nowa_funkcja(*args, **kwargs):\n",
    "        start = time.time()  # Zapisujemy czas rozpoczęcia\n",
    "        wynik = funkcja(*args, **kwargs)  # Wywołujemy oryginalną funkcję\n",
    "        end = time.time()  # Zapisujemy czas zakończenia\n",
    "        print(f\"Czas wykonania funkcji {funkcja.__name__}: {end - start:.4f} sekund\")\n",
    "        return wynik\n",
    "    return nowa_funkcja\n",
    "\n",
    "# Dekorowanie funkcji\n",
    "@zmierz_czas\n",
    "def przyklad_funkcji():\n",
    "    time.sleep(2)  # Symulujemy czasochłonną operację (np. 2 sekundy)\n",
    "    print(\"Funkcja zakończyła działanie.\")\n",
    "\n",
    "# Wywołanie funkcji\n",
    "przyklad_funkcji()\n"
   ]
  },
  {
   "cell_type": "code",
   "execution_count": null,
   "id": "fb975bc4-22b2-4563-bfe0-03605e416bc8",
   "metadata": {},
   "outputs": [],
   "source": []
  }
 ],
 "metadata": {
  "kernelspec": {
   "display_name": "Python 3 (ipykernel)",
   "language": "python",
   "name": "python3"
  },
  "language_info": {
   "codemirror_mode": {
    "name": "ipython",
    "version": 3
   },
   "file_extension": ".py",
   "mimetype": "text/x-python",
   "name": "python",
   "nbconvert_exporter": "python",
   "pygments_lexer": "ipython3",
   "version": "3.11.2"
  }
 },
 "nbformat": 4,
 "nbformat_minor": 5
}

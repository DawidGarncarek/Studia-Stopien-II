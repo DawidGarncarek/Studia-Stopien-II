{
 "cells": [
  {
   "cell_type": "markdown",
   "id": "bbabee3b",
   "metadata": {},
   "source": [
    "\n",
    "# Obsługa wyjątków w Pythonie\n",
    "\n",
    "Jak używać bloków `try`, `except`, `else`, `finally` oraz jak definiować własne wyjątki.\n",
    "\n",
    "Obsługa wyjątków jest kluczowa, aby program działał poprawnie nawet w przypadku wystąpienia nieprzewidzianych błędów.\n"
   ]
  },
  {
   "cell_type": "markdown",
   "id": "aaa0d0c8",
   "metadata": {},
   "source": [
    "\n",
    "## Blok try-except\n",
    "\n",
    "Podstawowy blok obsługi wyjątków w Pythonie składa się z klauzul `try` oraz `except`. W bloku `try` umieszczamy kod, który może potencjalnie spowodować wyjątek, a w bloku `except` umieszczamy kod, który ma zostać wykonany w przypadku wystąpienia tego wyjątku.\n",
    "\n",
    "### Przykład:\n"
   ]
  },
  {
   "cell_type": "code",
   "execution_count": null,
   "id": "e2d34131",
   "metadata": {},
   "outputs": [],
   "source": [
    "\n",
    "# Przykład obsługi wyjątku\n",
    "\n",
    "try:\n",
    "    x = 10 / 0  # Próba dzielenia przez zero\n",
    "except ZeroDivisionError:\n",
    "    print(\"Nie można dzielić przez zero!\")\n"
   ]
  },
  {
   "cell_type": "markdown",
   "id": "9819aeda",
   "metadata": {},
   "source": [
    "\n",
    "## Blok try-except-else\n",
    "\n",
    "Blok `else` jest wykonywany, jeśli kod w bloku `try` nie spowoduje wyjątku. Umożliwia to rozdzielenie kodu, który powinien być wykonany w przypadku powodzenia operacji, od kodu, który obsługuje wyjątki.\n",
    "\n",
    "### Przykład:\n"
   ]
  },
  {
   "cell_type": "code",
   "execution_count": 1,
   "id": "2cc9218c",
   "metadata": {},
   "outputs": [
    {
     "name": "stdout",
     "output_type": "stream",
     "text": [
      "Operacja udana, wynik: 5.0\n"
     ]
    }
   ],
   "source": [
    "\n",
    "# Przykład bloku try-except-else\n",
    "\n",
    "try:\n",
    "    x = 10 / 2\n",
    "except ZeroDivisionError:\n",
    "    print(\"Nie można dzielić przez zero!\")\n",
    "else:\n",
    "    print(\"Operacja udana, wynik:\", x)\n"
   ]
  },
  {
   "cell_type": "markdown",
   "id": "80e98d00",
   "metadata": {},
   "source": [
    "\n",
    "## Blok try-except-finally\n",
    "\n",
    "Blok `finally` jest wykonywany zawsze, niezależnie od tego, czy wyjątek wystąpił, czy nie. Jest używany do operacji, które muszą być wykonane, np. zamknięcie plików lub połączeń.\n",
    "\n",
    "### Przykład:\n"
   ]
  },
  {
   "cell_type": "code",
   "execution_count": 2,
   "id": "f25138f0",
   "metadata": {},
   "outputs": [
    {
     "name": "stdout",
     "output_type": "stream",
     "text": [
      "Nie można dzielić przez zero!\n",
      "Ten kod wykona się zawsze, bez względu na to, czy wyjątek wystąpił.\n"
     ]
    }
   ],
   "source": [
    "\n",
    "# Przykład bloku try-except-finally\n",
    "\n",
    "try:\n",
    "    x = 10 / 0\n",
    "except ZeroDivisionError:\n",
    "    print(\"Nie można dzielić przez zero!\")\n",
    "finally:\n",
    "    print(\"Ten kod wykona się zawsze, bez względu na to, czy wyjątek wystąpił.\")\n"
   ]
  },
  {
   "cell_type": "markdown",
   "id": "4786aa79",
   "metadata": {},
   "source": [
    "\n",
    "## Tworzenie własnych wyjątków\n",
    "\n",
    "Możemy definiować własne wyjątki, tworząc klasy dziedziczące po wbudowanej klasie `Exception`. Dzięki temu możemy lepiej kontrolować i opisywać błędy, które są specyficzne dla naszej aplikacji.\n",
    "\n",
    "### Przykład:\n"
   ]
  },
  {
   "cell_type": "code",
   "execution_count": 5,
   "id": "f034fe2e",
   "metadata": {},
   "outputs": [
    {
     "name": "stdout",
     "output_type": "stream",
     "text": [
      "Błąd: Wiek użytkownika musi być co najmniej 18 lat.\n"
     ]
    }
   ],
   "source": [
    "\n",
    "# Definicja własnego wyjątku\n",
    "class BladUzytkownika(Exception):\n",
    "    def __init__(self, message):\n",
    "        self.message = message\n",
    "\n",
    "# Funkcja, która rzuca wyjątek\n",
    "def sprawdz_wiek(wiek):\n",
    "    if wiek < 18:\n",
    "        raise BladUzytkownika(\"Wiek użytkownika musi być co najmniej 18 lat.\")\n",
    "    else:\n",
    "        print(\"Użytkownik jest pełnoletni.\")\n",
    "\n",
    "# Próba wywołania funkcji z błędem\n",
    "try:\n",
    "    sprawdz_wiek(16)\n",
    "except BladUzytkownika as e:\n",
    "    print(f\"Błąd: {e.message}\")\n"
   ]
  },
  {
   "cell_type": "markdown",
   "id": "04816bf1-590a-42d3-a941-b277d2c4d266",
   "metadata": {},
   "source": [
    "# Przykład 2"
   ]
  },
  {
   "cell_type": "code",
   "execution_count": 6,
   "id": "fe5560b1-91a1-42aa-b192-0bf480fc0a1b",
   "metadata": {},
   "outputs": [
    {
     "name": "stdout",
     "output_type": "stream",
     "text": [
      "Błąd: Nie można dzielić przez zero.\n",
      "Błąd: Nieprawidłowy typ danych.\n",
      "Wynik dzielenia: 2.0\n",
      "Błąd: Indeks poza zakresem listy.\n",
      "Wynik dzielenia: 5.0\n",
      "Element listy o indeksie 2: 3\n"
     ]
    }
   ],
   "source": [
    "def przyklad_obslugi_wyjatkow(a, b):\n",
    "    try:\n",
    "        # Próba dzielenia dwóch liczb\n",
    "        wynik = a / b\n",
    "        print(f\"Wynik dzielenia: {wynik}\")\n",
    "        \n",
    "        # Próba dostępu do elementu listy\n",
    "        lista = [1, 2, 3]\n",
    "        print(f\"Element listy o indeksie {b}: {lista[b]}\")\n",
    "    \n",
    "    # Obsługa dzielenia przez zero\n",
    "    except ZeroDivisionError:\n",
    "        print(\"Błąd: Nie można dzielić przez zero.\")\n",
    "    \n",
    "    # Obsługa błędów związanych z typami danych (np. dzielenie liczby przez ciąg znaków)\n",
    "    except TypeError:\n",
    "        print(\"Błąd: Nieprawidłowy typ danych.\")\n",
    "    \n",
    "    # Obsługa dostępu do elementu poza zakresem listy\n",
    "    except IndexError:\n",
    "        print(\"Błąd: Indeks poza zakresem listy.\")\n",
    "    \n",
    "    # Ogólna obsługa innych nieprzewidzianych wyjątków\n",
    "    except Exception as e:\n",
    "        print(f\"Niespodziewany błąd: {e}\")\n",
    "\n",
    "# Przykłady różnych wywołań\n",
    "przyklad_obslugi_wyjatkow(10, 0)  # Dzielenie przez zero\n",
    "przyklad_obslugi_wyjatkow(10, \"2\")  # Błędny typ danych\n",
    "przyklad_obslugi_wyjatkow(10, 5)  # Indeks poza zakresem\n",
    "przyklad_obslugi_wyjatkow(10, 2)  # Prawidłowe dane\n"
   ]
  },
  {
   "cell_type": "code",
   "execution_count": null,
   "id": "e5c269ad-aa46-4190-87e2-6be90e13e8b5",
   "metadata": {},
   "outputs": [],
   "source": []
  }
 ],
 "metadata": {
  "kernelspec": {
   "display_name": "Python 3 (ipykernel)",
   "language": "python",
   "name": "python3"
  },
  "language_info": {
   "codemirror_mode": {
    "name": "ipython",
    "version": 3
   },
   "file_extension": ".py",
   "mimetype": "text/x-python",
   "name": "python",
   "nbconvert_exporter": "python",
   "pygments_lexer": "ipython3",
   "version": "3.11.2"
  }
 },
 "nbformat": 4,
 "nbformat_minor": 5
}

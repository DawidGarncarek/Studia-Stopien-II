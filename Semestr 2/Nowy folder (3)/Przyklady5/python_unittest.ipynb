{
 "cells": [
  {
   "cell_type": "markdown",
   "id": "16d78922",
   "metadata": {},
   "source": [
    "\n",
    "# Testy jednostkowe w Pythonie przy użyciu `unittest`\n",
    "\n",
    "Testy jednostkowe są kluczowym elementem procesu wytwarzania oprogramowania, który pomaga w zapewnieniu jakości kodu. Python posiada wbudowany moduł `unittest`, który umożliwia tworzenie testów jednostkowych.\n",
    "\n",
    "W tym notatniku omówimy podstawowe zagadnienia związane z testami jednostkowymi w Pythonie, w tym:\n",
    "- Tworzenie testów jednostkowych przy użyciu modułu `unittest`\n",
    "- Testowanie różnych przypadków użycia\n",
    "- Assercje (sprawdzanie poprawności)\n",
    "- Korzystanie z `setUp()` i `tearDown()`\n",
    "- Uruchamianie testów\n",
    "\n",
    "## 1. Tworzenie testów jednostkowych\n",
    "\n",
    "Moduł `unittest` umożliwia definiowanie testów poprzez tworzenie klas dziedziczących po `unittest.TestCase`. W ramach każdej klasy możemy definiować różne metody testowe, które sprawdzają określoną funkcjonalność.\n",
    "\n",
    "### Przykład prostego testu jednostkowego:\n",
    "```python\n",
    "import unittest\n",
    "\n",
    "# Funkcja do przetestowania\n",
    "def dodaj(a, b):\n",
    "    return a + b\n",
    "\n",
    "# Klasa testowa\n",
    "class TestDodawanie(unittest.TestCase):\n",
    "\n",
    "    def test_dodaj_liczby(self):\n",
    "        self.assertEqual(dodaj(2, 3), 5)  # Sprawdzanie poprawności działania funkcji\n",
    "\n",
    "# Uruchamianie testów\n",
    "if __name__ == '__main__':\n",
    "    unittest.main()\n",
    "```\n"
   ]
  },
  {
   "cell_type": "code",
   "execution_count": 4,
   "id": "249782a2",
   "metadata": {},
   "outputs": [
    {
     "name": "stderr",
     "output_type": "stream",
     "text": [
      "F.\n",
      "======================================================================\n",
      "FAIL: test_dodaj_liczby (__main__.TestDodawanie.test_dodaj_liczby)\n",
      "----------------------------------------------------------------------\n",
      "Traceback (most recent call last):\n",
      "  File \"C:\\Users\\M K\\AppData\\Local\\Temp\\ipykernel_11196\\2185621360.py\", line 13, in test_dodaj_liczby\n",
      "    self.assertEqual(dodaj(2, 3), 6)\n",
      "AssertionError: 5 != 6\n",
      "\n",
      "----------------------------------------------------------------------\n",
      "Ran 2 tests in 0.003s\n",
      "\n",
      "FAILED (failures=1)\n"
     ]
    }
   ],
   "source": [
    "\n",
    "import unittest\n",
    "\n",
    "# Prosta funkcja do przetestowania\n",
    "def dodaj(a, b):\n",
    "    return a + b\n",
    "\n",
    "# Klasa testowa\n",
    "class TestDodawanie(unittest.TestCase):\n",
    "\n",
    "    def test_dodaj_liczby(self):\n",
    "        # Sprawdzamy, czy wynik dodawania 2 i 3 to 5\n",
    "        #self.assertEqual(dodaj(2, 3), 5)\n",
    "        self.assertEqual(dodaj(2, 3), 6)\n",
    "\n",
    "    def test_dodaj_zera(self):\n",
    "        # Sprawdzamy, czy wynik dodawania 0 i 0 to 0\n",
    "        self.assertEqual(dodaj(0, 0), 0)\n",
    "\n",
    "# Uruchamianie testów\n",
    "if __name__ == '__main__':\n",
    "    unittest.main(argv=[''], exit=False)\n"
   ]
  },
  {
   "cell_type": "markdown",
   "id": "65c70f2b",
   "metadata": {},
   "source": [
    "\n",
    "## 2. Assercje w `unittest`\n",
    "\n",
    "Assercje są kluczowe w testach jednostkowych, ponieważ pozwalają na sprawdzenie, czy wynik działania funkcji jest zgodny z oczekiwaniami. W `unittest` mamy dostęp do wielu metod asercji, takich jak:\n",
    "\n",
    "- `assertEqual(a, b)`: Sprawdza, czy `a == b`\n",
    "- `assertNotEqual(a, b)`: Sprawdza, czy `a != b`\n",
    "- `assertTrue(x)`: Sprawdza, czy `x` jest prawdą\n",
    "- `assertFalse(x)`: Sprawdza, czy `x` jest fałszem\n",
    "- `assertIsNone(x)`: Sprawdza, czy `x` jest `None`\n",
    "- `assertIsNotNone(x)`: Sprawdza, czy `x` nie jest `None`\n",
    "\n",
    "### Przykłady użycia różnych asercji:\n",
    "```python\n",
    "class TestAsercje(unittest.TestCase):\n",
    "\n",
    "    def test_asserEqual(self):\n",
    "        self.assertEqual(3 + 2, 5)  # Sprawdzamy, czy wynik 3+2 to 5\n",
    "\n",
    "    def test_assertTrue(self):\n",
    "        self.assertTrue(4 > 2)  # Sprawdzamy, czy 4 > 2\n",
    "\n",
    "    def test_assertIsNone(self):\n",
    "        self.assertIsNone(None)  # Sprawdzamy, czy wartość to None\n",
    "```\n"
   ]
  },
  {
   "cell_type": "code",
   "execution_count": 5,
   "id": "5ec96800",
   "metadata": {},
   "outputs": [
    {
     "name": "stderr",
     "output_type": "stream",
     "text": [
      "...F.\n",
      "======================================================================\n",
      "FAIL: test_dodaj_liczby (__main__.TestDodawanie.test_dodaj_liczby)\n",
      "----------------------------------------------------------------------\n",
      "Traceback (most recent call last):\n",
      "  File \"C:\\Users\\M K\\AppData\\Local\\Temp\\ipykernel_11196\\2185621360.py\", line 13, in test_dodaj_liczby\n",
      "    self.assertEqual(dodaj(2, 3), 6)\n",
      "AssertionError: 5 != 6\n",
      "\n",
      "----------------------------------------------------------------------\n",
      "Ran 5 tests in 0.007s\n",
      "\n",
      "FAILED (failures=1)\n"
     ]
    }
   ],
   "source": [
    "\n",
    "class TestAsercje(unittest.TestCase):\n",
    "\n",
    "    def test_assertEqual(self):\n",
    "        self.assertEqual(3 + 2, 5)  # Sprawdzamy, czy wynik 3+2 to 5\n",
    "\n",
    "    def test_assertTrue(self):\n",
    "        self.assertTrue(4 > 2)  # Sprawdzamy, czy 4 > 2\n",
    "\n",
    "    def test_assertIsNone(self):\n",
    "        self.assertIsNone(None)  # Sprawdzamy, czy wartość to None\n",
    "\n",
    "# Uruchamianie testów\n",
    "if __name__ == '__main__':\n",
    "    unittest.main(argv=[''], exit=False)\n"
   ]
  },
  {
   "cell_type": "markdown",
   "id": "35c048eb",
   "metadata": {},
   "source": [
    "\n",
    "## 3. Metody `setUp()` i `tearDown()`\n",
    "\n",
    "`setUp()` i `tearDown()` to metody, które są wykonywane przed i po każdym teście. Są przydatne, gdy musimy przygotować środowisko do testów (np. otworzyć plik lub połączyć się z bazą danych) oraz wyczyścić zasoby po zakończeniu testu.\n",
    "\n",
    "- `setUp()`: Wykonywana przed każdym testem.\n",
    "- `tearDown()`: Wykonywana po każdym teście.\n",
    "\n",
    "### Przykład użycia `setUp()` i `tearDown()`:\n",
    "```python\n",
    "class TestPrzygotowanie(unittest.TestCase):\n",
    "\n",
    "    def setUp(self):\n",
    "        # Kod, który jest wykonywany przed każdym testem\n",
    "        print(\"Przygotowanie testu...\")\n",
    "\n",
    "    def tearDown(self):\n",
    "        # Kod, który jest wykonywany po każdym teście\n",
    "        print(\"Sprzątanie po teście...\")\n",
    "\n",
    "    def test_przyklad(self):\n",
    "        self.assertTrue(True)  # Przykładowy test\n",
    "```\n"
   ]
  },
  {
   "cell_type": "code",
   "execution_count": 7,
   "id": "a648c643",
   "metadata": {},
   "outputs": [
    {
     "name": "stderr",
     "output_type": "stream",
     "text": [
      "...F.F\n",
      "======================================================================\n",
      "FAIL: test_dodaj_liczby (__main__.TestDodawanie.test_dodaj_liczby)\n",
      "----------------------------------------------------------------------\n",
      "Traceback (most recent call last):\n",
      "  File \"C:\\Users\\M K\\AppData\\Local\\Temp\\ipykernel_11196\\2185621360.py\", line 13, in test_dodaj_liczby\n",
      "    self.assertEqual(dodaj(2, 3), 6)\n",
      "AssertionError: 5 != 6\n",
      "\n",
      "======================================================================\n",
      "FAIL: test_przyklad (__main__.TestPrzygotowanie.test_przyklad)\n",
      "----------------------------------------------------------------------\n",
      "Traceback (most recent call last):\n",
      "  File \"C:\\Users\\M K\\AppData\\Local\\Temp\\ipykernel_11196\\3437297251.py\", line 12, in test_przyklad\n",
      "    self.assertTrue(False)  # Przykładowy test\n",
      "    ^^^^^^^^^^^^^^^^^^^^^^\n",
      "AssertionError: False is not true\n",
      "\n",
      "----------------------------------------------------------------------\n",
      "Ran 6 tests in 0.006s\n",
      "\n",
      "FAILED (failures=2)\n"
     ]
    },
    {
     "name": "stdout",
     "output_type": "stream",
     "text": [
      "Przygotowanie testu...\n",
      "Sprzątanie po teście...\n"
     ]
    }
   ],
   "source": [
    "\n",
    "class TestPrzygotowanie(unittest.TestCase):\n",
    "\n",
    "    def setUp(self):\n",
    "        # Kod, który jest wykonywany przed każdym testem\n",
    "        print(\"Przygotowanie testu...\")\n",
    "\n",
    "    def tearDown(self):\n",
    "        # Kod, który jest wykonywany po każdym teście\n",
    "        print(\"Sprzątanie po teście...\")\n",
    "\n",
    "    def test_przyklad(self):\n",
    "        self.assertTrue(False)  # Przykładowy test\n",
    "\n",
    "# Uruchamianie testów\n",
    "if __name__ == '__main__':\n",
    "    unittest.main(argv=[''], exit=False)\n"
   ]
  },
  {
   "cell_type": "markdown",
   "id": "875ec7ab-8756-4990-b3a7-49f6167adb2a",
   "metadata": {},
   "source": [
    "## 4. Mockowanie z użyciem unittest.mock\n",
    "Biblioteka unittest.mock pozwala na tworzenie atrap (mocków) obiektów i funkcji, co jest przydatne przy testowaniu kodu zależnego od zewnętrznych zasobów.\n",
    "\n",
    "Przykład mockowania funkcji:"
   ]
  },
  {
   "cell_type": "code",
   "execution_count": 6,
   "id": "117f03fb-ee95-466f-ae8e-fd9a39f2c6e8",
   "metadata": {},
   "outputs": [],
   "source": [
    "from unittest.mock import patch\n",
    "\n",
    "def pobierz_dane_z_api():\n",
    "    # Funkcja symulująca pobieranie danych z zewnętrznego API\n",
    "    pass\n",
    "\n",
    "class TestAPI(unittest.TestCase):\n",
    "    @patch('__main__.pobierz_dane_z_api')\n",
    "    def test_pobierz_dane(self, mock_pobierz):\n",
    "        mock_pobierz.return_value = {'status': 'ok'}\n",
    "        wynik = pobierz_dane_z_api()\n",
    "        self.assertEqual(wynik['status'], 'ok')\n"
   ]
  },
  {
   "cell_type": "markdown",
   "id": "8be60bde-1610-4c37-97e8-ef674447cc85",
   "metadata": {},
   "source": [
    "## 5. Podsumowanie\n",
    "Testy jednostkowe są niezbędnym elementem profesjonalnego tworzenia oprogramowania. Moduł `unittest` w Pythonie dostarcza wszelkich narzędzi potrzebnych do pisania efektywnych testów. Regularne testowanie kodu pozwala na szybsze wykrywanie błędów i zapewnia większą pewność podczas modyfikacji i rozwoju aplikacji."
   ]
  },
  {
   "cell_type": "code",
   "execution_count": null,
   "id": "3c18f0d0-a411-4fb1-9db3-61c2bab96673",
   "metadata": {
    "editable": true,
    "slideshow": {
     "slide_type": ""
    },
    "tags": []
   },
   "outputs": [],
   "source": []
  }
 ],
 "metadata": {
  "kernelspec": {
   "display_name": "Python 3 (ipykernel)",
   "language": "python",
   "name": "python3"
  },
  "language_info": {
   "codemirror_mode": {
    "name": "ipython",
    "version": 3
   },
   "file_extension": ".py",
   "mimetype": "text/x-python",
   "name": "python",
   "nbconvert_exporter": "python",
   "pygments_lexer": "ipython3",
   "version": "3.11.2"
  }
 },
 "nbformat": 4,
 "nbformat_minor": 5
}
